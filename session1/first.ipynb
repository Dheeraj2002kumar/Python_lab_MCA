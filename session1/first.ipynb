{
 "cells": [
  {
   "cell_type": "markdown",
   "id": "13a46719-59a3-42e0-8ba7-8b38618c64a8",
   "metadata": {},
   "source": [
    "# Python Programming Lab"
   ]
  },
  {
   "cell_type": "code",
   "execution_count": 2,
   "id": "89f59f4f-fcf6-4cf7-85eb-fd5d225b9fa9",
   "metadata": {},
   "outputs": [
    {
     "name": "stdout",
     "output_type": "stream",
     "text": [
      "Enter first number:  55\n",
      "Enter second number:  66\n"
     ]
    }
   ],
   "source": [
    "a = int(input(\"Enter first number: \"))\n",
    "b = int(input(\"Enter second number: \"))"
   ]
  },
  {
   "cell_type": "markdown",
   "id": "06fd3b32-3a6b-4dcc-b8f2-5c50ba31bda2",
   "metadata": {},
   "source": [
    "## Arithmetic Operator"
   ]
  },
  {
   "cell_type": "code",
   "execution_count": 4,
   "id": "11bb3ba3",
   "metadata": {},
   "outputs": [
    {
     "name": "stdout",
     "output_type": "stream",
     "text": [
      "\n",
      "--- Arithmetic Operators ---\n",
      "Addition: 55 + 66 = 121\n",
      "Subtraction: 55 - 66 = -11\n",
      "Multiplication: 55 * 66 = 3630\n",
      "Division: 55 / 66 = 0.8333333333333334\n",
      "Floor: 55 // 66 = 0\n",
      "Modulus: 55 % 66 = 55\n",
      "Exponent: 55 ** 66 = 7310338828254284348684765759307822731264010134569603785204110402552282244915959896758295144536532461643218994140625\n"
     ]
    }
   ],
   "source": [
    "print(\"\\n--- Arithmetic Operators ---\")\n",
    "print(f\"Addition: {a} + {b} = {a + b}\")\n",
    "print(f\"Subtraction: {a} - {b} = {a - b}\")\n",
    "print(f\"Multiplication: {a} * {b} = {a * b}\")\n",
    "print(f\"Division: {a} / {b} = {a / b}\")\n",
    "print(f\"Floor: {a} // {b} = {a // b}\")\n",
    "print(f\"Modulus: {a} % {b} = {a % b}\")\n",
    "print(f\"Exponent: {a} ** {b} = {a ** b}\")"
   ]
  },
  {
   "cell_type": "markdown",
   "id": "55ff88a5-d193-4546-b3dd-d16c70f48900",
   "metadata": {},
   "source": [
    "## Assignment Operator"
   ]
  },
  {
   "cell_type": "code",
   "execution_count": 10,
   "id": "dbf27780-3a37-461f-981b-ac2669ae1cc6",
   "metadata": {},
   "outputs": [
    {
     "name": "stdout",
     "output_type": "stream",
     "text": [
      "\n",
      "--- Assignment Operatos ---\n",
      "Initial value of c: 55\n",
      "c += b -> 121\n",
      "c -= b -> 55\n",
      "c *= b -> 3630\n",
      "c /= b -> 55.0\n"
     ]
    }
   ],
   "source": [
    "print(\"\\n--- Assignment Operatos ---\")\n",
    "c = a\n",
    "print(f\"Initial value of c: {c}\")\n",
    "c += b\n",
    "print(f\"c += b -> {c}\")\n",
    "c -= b\n",
    "print(f\"c -= b -> {c}\")\n",
    "c *= b\n",
    "print(f\"c *= b -> {c}\")\n",
    "c /= b\n",
    "print(f\"c /= b -> {c}\")"
   ]
  },
  {
   "cell_type": "markdown",
   "id": "2c5b6b70-c732-494c-95a7-e6317d6c94f1",
   "metadata": {},
   "source": [
    "## Factorial "
   ]
  },
  {
   "cell_type": "code",
   "execution_count": 21,
   "id": "0ab4fe71-dc6a-405b-89a3-d909b90bc461",
   "metadata": {},
   "outputs": [
    {
     "name": "stdout",
     "output_type": "stream",
     "text": [
      "Enter a Non-negative integer:  5\n"
     ]
    },
    {
     "name": "stdout",
     "output_type": "stream",
     "text": [
      "The factorial of 5 is 24\n"
     ]
    }
   ],
   "source": [
    "def factorial(n):\n",
    "    if n == 0 or n == 1:\n",
    "        return 1\n",
    "\n",
    "    result = 1\n",
    "    for i  in range(2, n):\n",
    "        result = result * i\n",
    "\n",
    "    return result\n",
    "\n",
    "N = int(input(\"Enter a Non-negative integer: \"))\n",
    "print(f\"The factorial of {N} is {factorial(N)}\")"
   ]
  },
  {
   "cell_type": "code",
   "execution_count": 1,
   "id": "dfa6d747-848a-4b46-932f-a77c238f4a05",
   "metadata": {},
   "outputs": [
    {
     "name": "stdout",
     "output_type": "stream",
     "text": [
      "Hello\n"
     ]
    }
   ],
   "source": [
    "print(\"Hello\")"
   ]
  },
  {
   "cell_type": "code",
   "execution_count": 6,
   "id": "daf61987",
   "metadata": {},
   "outputs": [
    {
     "name": "stdout",
     "output_type": "stream",
     "text": [
      "The value is  5\n"
     ]
    }
   ],
   "source": [
    "a = int(input(\"Enter the number: \"))\n",
    "print(\"The value is \", a)"
   ]
  },
  {
   "cell_type": "code",
   "execution_count": null,
   "id": "239f90d7",
   "metadata": {},
   "outputs": [],
   "source": []
  }
 ],
 "metadata": {
  "kernelspec": {
   "display_name": "Python 3",
   "language": "python",
   "name": "python3"
  },
  "language_info": {
   "codemirror_mode": {
    "name": "ipython",
    "version": 3
   },
   "file_extension": ".py",
   "mimetype": "text/x-python",
   "name": "python",
   "nbconvert_exporter": "python",
   "pygments_lexer": "ipython3",
   "version": "3.12.2"
  }
 },
 "nbformat": 4,
 "nbformat_minor": 5
}
