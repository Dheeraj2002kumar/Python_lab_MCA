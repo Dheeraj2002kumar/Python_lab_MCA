{
 "cells": [
  {
   "cell_type": "markdown",
   "id": "13a46719-59a3-42e0-8ba7-8b38618c64a8",
   "metadata": {},
   "source": [
    "## Python Programming Lab"
   ]
  },
  {
   "cell_type": "code",
   "execution_count": 2,
   "id": "89f59f4f-fcf6-4cf7-85eb-fd5d225b9fa9",
   "metadata": {},
   "outputs": [
    {
     "name": "stdin",
     "output_type": "stream",
     "text": [
      "Enter first number:  55\n",
      "Enter second number:  66\n"
     ]
    }
   ],
   "source": [
    "a = int(input(\"Enter first number: \"))\n",
    "b = int(input(\"Enter second number: \"))"
   ]
  },
  {
   "cell_type": "code",
   "execution_count": 4,
   "id": "11bb3ba3",
   "metadata": {},
   "outputs": [
    {
     "name": "stdout",
     "output_type": "stream",
     "text": [
      "\n",
      "--- Arithmetic Operators ---\n",
      "Addition: 55 + 66 = 121\n",
      "Subtraction: 55 - 66 = -11\n",
      "Multiplication: 55 * 66 = 3630\n",
      "Division: 55 / 66 = 0.8333333333333334\n",
      "Floor: 55 // 66 = 0\n",
      "Modulus: 55 % 66 = 55\n",
      "Exponent: 55 ** 66 = 7310338828254284348684765759307822731264010134569603785204110402552282244915959896758295144536532461643218994140625\n"
     ]
    }
   ],
   "source": [
    "print(\"\\n--- Arithmetic Operators ---\")\n",
    "print(f\"Addition: {a} + {b} = {a + b}\")\n",
    "print(f\"Subtraction: {a} - {b} = {a - b}\")\n",
    "print(f\"Multiplication: {a} * {b} = {a * b}\")\n",
    "print(f\"Division: {a} / {b} = {a / b}\")\n",
    "print(f\"Floor: {a} // {b} = {a // b}\")\n",
    "print(f\"Modulus: {a} % {b} = {a % b}\")\n",
    "print(f\"Exponent: {a} ** {b} = {a ** b}\")"
   ]
  },
  {
   "cell_type": "code",
   "execution_count": 10,
   "id": "dbf27780-3a37-461f-981b-ac2669ae1cc6",
   "metadata": {},
   "outputs": [
    {
     "name": "stdout",
     "output_type": "stream",
     "text": [
      "\n",
      "--- Assignment Operatos ---\n",
      "Initial value of c: 55\n",
      "c += b -> 121\n",
      "c -= b -> 55\n",
      "c *= b -> 3630\n",
      "c /= b -> 55.0\n"
     ]
    }
   ],
   "source": [
    "print(\"\\n--- Assignment Operatos ---\")\n",
    "c = a\n",
    "print(f\"Initial value of c: {c}\")\n",
    "c += b\n",
    "print(f\"c += b -> {c}\")\n",
    "c -= b\n",
    "print(f\"c -= b -> {c}\")\n",
    "c *= b\n",
    "print(f\"c *= b -> {c}\")\n",
    "c /= b\n",
    "print(f\"c /= b -> {c}\")"
   ]
  },
  {
   "cell_type": "code",
   "execution_count": null,
   "id": "2a6dff2e-87f1-4bd0-9c91-1b2efeb23bae",
   "metadata": {},
   "outputs": [],
   "source": []
  }
 ],
 "metadata": {
  "kernelspec": {
   "display_name": "Python 3 (ipykernel)",
   "language": "python",
   "name": "python3"
  },
  "language_info": {
   "codemirror_mode": {
    "name": "ipython",
    "version": 3
   },
   "file_extension": ".py",
   "mimetype": "text/x-python",
   "name": "python",
   "nbconvert_exporter": "python",
   "pygments_lexer": "ipython3",
   "version": "3.11.5"
  }
 },
 "nbformat": 4,
 "nbformat_minor": 5
}
