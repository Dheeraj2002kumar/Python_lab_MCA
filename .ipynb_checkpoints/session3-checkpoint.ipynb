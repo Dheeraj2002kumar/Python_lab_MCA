{
 "cells": [
  {
   "cell_type": "markdown",
   "id": "a68a7e53-34ff-4ead-a8e1-2c60a699b99e",
   "metadata": {},
   "source": [
    "## Creating a tuple of Indian names"
   ]
  },
  {
   "cell_type": "code",
   "execution_count": 19,
   "id": "93784d9a-0cf3-4c65-96d6-0cddc24bdee7",
   "metadata": {},
   "outputs": [
    {
     "name": "stdout",
     "output_type": "stream",
     "text": [
      "Tuple of names:  ('Aarav', 'Isha', 'Rohan', 'Priya', 'Aarav')\n"
     ]
    }
   ],
   "source": [
    "names = (\"Aarav\", \"Isha\", \"Rohan\", \"Priya\", \"Aarav\")\n",
    "\n",
    "print(\"Tuple of names: \", names)"
   ]
  },
  {
   "cell_type": "markdown",
   "id": "922f4624-a18a-4885-9785-d1e58c833a62",
   "metadata": {},
   "source": [
    "## Accessing elements"
   ]
  },
  {
   "cell_type": "code",
   "execution_count": 22,
   "id": "7db010a2-24ad-44d2-857f-8cf1fca667a5",
   "metadata": {},
   "outputs": [
    {
     "name": "stdout",
     "output_type": "stream",
     "text": [
      "\n",
      "First name:  Aarav\n",
      "Last name:  Aarav\n",
      "\n",
      "Slice [1:4]:  ('Isha', 'Rohan', 'Priya')\n"
     ]
    }
   ],
   "source": [
    "print(\"\\nFirst name: \", names[0])   # access by index\n",
    "print(\"Last name: \", names[-1])   # Negative index\n",
    "print(\"\\nSlice [1:4]: \", names[1:4])   # Slicing"
   ]
  },
  {
   "cell_type": "markdown",
   "id": "d2db540c-ea2a-4553-b763-acd10392ae78",
   "metadata": {},
   "source": [
    "## Tuple methods"
   ]
  },
  {
   "cell_type": "code",
   "execution_count": 25,
   "id": "dc4a7878-334b-4166-96d3-c2b894246ff2",
   "metadata": {},
   "outputs": [
    {
     "name": "stdout",
     "output_type": "stream",
     "text": [
      "\n",
      "Count of Aarav: 2\n",
      "Index of 'Rohan':  2\n"
     ]
    }
   ],
   "source": [
    "print(\"\\nCount of Aarav:\", names.count(\"Aarav\"))  # Count occurrences\n",
    "print(\"Index of 'Rohan': \", names.index(\"Rohan\") ) # find index"
   ]
  },
  {
   "cell_type": "markdown",
   "id": "48735b81-66e3-458d-8f55-a3f747b36793",
   "metadata": {},
   "source": [
    "## Traversing through tuple"
   ]
  },
  {
   "cell_type": "code",
   "execution_count": 36,
   "id": "b268f12f-b28d-494c-8396-617f0ce5acdf",
   "metadata": {},
   "outputs": [
    {
     "ename": "NameError",
     "evalue": "name 'Print' is not defined",
     "output_type": "error",
     "traceback": [
      "\u001b[1;31m---------------------------------------------------------------------------\u001b[0m",
      "\u001b[1;31mNameError\u001b[0m                                 Traceback (most recent call last)",
      "Cell \u001b[1;32mIn[36], line 1\u001b[0m\n\u001b[1;32m----> 1\u001b[0m Print(\u001b[38;5;124m\"\u001b[39m\u001b[38;5;130;01m\\n\u001b[39;00m\u001b[38;5;124mTraversing name: \u001b[39m\u001b[38;5;124m\"\u001b[39m)\n\u001b[0;32m      2\u001b[0m names\n",
      "\u001b[1;31mNameError\u001b[0m: name 'Print' is not defined"
     ]
    }
   ],
   "source": [
    "Print(\"\\nTraversing name: \")\n",
    "names\n",
    "# for name in names:\n",
    "#     print(name)"
   ]
  },
  {
   "cell_type": "code",
   "execution_count": null,
   "id": "fe6d0608-f127-40e6-8220-ea297a2eb0b4",
   "metadata": {},
   "outputs": [],
   "source": []
  }
 ],
 "metadata": {
  "kernelspec": {
   "display_name": "Python 3 (ipykernel)",
   "language": "python",
   "name": "python3"
  },
  "language_info": {
   "codemirror_mode": {
    "name": "ipython",
    "version": 3
   },
   "file_extension": ".py",
   "mimetype": "text/x-python",
   "name": "python",
   "nbconvert_exporter": "python",
   "pygments_lexer": "ipython3",
   "version": "3.11.5"
  }
 },
 "nbformat": 4,
 "nbformat_minor": 5
}
