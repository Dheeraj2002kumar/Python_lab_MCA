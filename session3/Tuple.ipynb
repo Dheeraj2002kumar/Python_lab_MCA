{
 "cells": [
  {
   "cell_type": "markdown",
   "id": "a68a7e53-34ff-4ead-a8e1-2c60a699b99e",
   "metadata": {},
   "source": [
    "## Creating a tuple of Indian names"
   ]
  },
  {
   "cell_type": "code",
   "execution_count": 19,
   "id": "93784d9a-0cf3-4c65-96d6-0cddc24bdee7",
   "metadata": {},
   "outputs": [
    {
     "name": "stdout",
     "output_type": "stream",
     "text": [
      "Tuple of names:  ('Aarav', 'Isha', 'Rohan', 'Priya', 'Aarav')\n"
     ]
    }
   ],
   "source": [
    "names = (\"Aarav\", \"Isha\", \"Rohan\", \"Priya\", \"Aarav\")\n",
    "\n",
    "print(\"Tuple of names: \", names)"
   ]
  },
  {
   "cell_type": "markdown",
   "id": "922f4624-a18a-4885-9785-d1e58c833a62",
   "metadata": {},
   "source": [
    "## Accessing elements"
   ]
  },
  {
   "cell_type": "code",
   "execution_count": 22,
   "id": "7db010a2-24ad-44d2-857f-8cf1fca667a5",
   "metadata": {},
   "outputs": [
    {
     "name": "stdout",
     "output_type": "stream",
     "text": [
      "\n",
      "First name:  Aarav\n",
      "Last name:  Aarav\n",
      "\n",
      "Slice [1:4]:  ('Isha', 'Rohan', 'Priya')\n"
     ]
    }
   ],
   "source": [
    "print(\"\\nFirst name: \", names[0])   # access by index\n",
    "print(\"Last name: \", names[-1])   # Negative index\n",
    "print(\"\\nSlice [1:4]: \", names[1:4])   # Slicing"
   ]
  },
  {
   "cell_type": "markdown",
   "id": "d2db540c-ea2a-4553-b763-acd10392ae78",
   "metadata": {},
   "source": [
    "## Tuple methods"
   ]
  },
  {
   "cell_type": "code",
   "execution_count": 25,
   "id": "dc4a7878-334b-4166-96d3-c2b894246ff2",
   "metadata": {},
   "outputs": [
    {
     "name": "stdout",
     "output_type": "stream",
     "text": [
      "\n",
      "Count of Aarav: 2\n",
      "Index of 'Rohan':  2\n"
     ]
    }
   ],
   "source": [
    "print(\"\\nCount of Aarav:\", names.count(\"Aarav\"))  # Count occurrences\n",
    "print(\"Index of 'Rohan': \", names.index(\"Rohan\") ) # find index"
   ]
  },
  {
   "cell_type": "markdown",
   "id": "48735b81-66e3-458d-8f55-a3f747b36793",
   "metadata": {},
   "source": [
    "## Traversing through tuple"
   ]
  },
  {
   "cell_type": "code",
   "execution_count": 40,
   "id": "b268f12f-b28d-494c-8396-617f0ce5acdf",
   "metadata": {},
   "outputs": [
    {
     "name": "stdout",
     "output_type": "stream",
     "text": [
      "\n",
      "Traversing name: \n",
      "Aarav\n",
      "Isha\n",
      "Rohan\n",
      "Priya\n",
      "Aarav\n"
     ]
    }
   ],
   "source": [
    "print(\"\\nTraversing name: \")\n",
    "\n",
    "for name in names:\n",
    "    print(name)"
   ]
  },
  {
   "cell_type": "markdown",
   "id": "c13607aa-fa69-4363-981c-c7989d6cc7c2",
   "metadata": {},
   "source": [
    "## Checking membership"
   ]
  },
  {
   "cell_type": "code",
   "execution_count": 45,
   "id": "f6158b38-0e08-4e28-a856-bef67498dc52",
   "metadata": {},
   "outputs": [
    {
     "name": "stdout",
     "output_type": "stream",
     "text": [
      "\n",
      "Is 'Priya' in tuple? True\n",
      "Is 'Kiran' in tuple? False\n"
     ]
    }
   ],
   "source": [
    "print(\"\\nIs 'Priya' in tuple?\", \"Priya\" in names)\n",
    "print(\"Is 'Kiran' in tuple?\", \"Kiran\" in names)"
   ]
  },
  {
   "cell_type": "markdown",
   "id": "91accde5-d751-4069-8c16-92ebf5aa8aa8",
   "metadata": {},
   "source": [
    "## Tuple concatenation"
   ]
  },
  {
   "cell_type": "code",
   "execution_count": 48,
   "id": "6505dbc3-e3dd-427f-80f4-2aa0e6d25ea3",
   "metadata": {},
   "outputs": [
    {
     "name": "stdout",
     "output_type": "stream",
     "text": [
      "\n",
      "concatenated tuple:  ('Aarav', 'Isha', 'Rohan', 'Priya', 'Aarav', 'Kiran', 'Meera')\n"
     ]
    }
   ],
   "source": [
    "more_names = (\"Kiran\", \"Meera\")\n",
    "combined = names + more_names\n",
    "print(\"\\nconcatenated tuple: \", combined)"
   ]
  },
  {
   "cell_type": "markdown",
   "id": "ac7263f8-f89c-4246-a69a-7356cccde93d",
   "metadata": {},
   "source": [
    "## Tuple repetition"
   ]
  },
  {
   "cell_type": "code",
   "execution_count": 53,
   "id": "34d2c5f2-7e13-4312-b861-bc61e854f6b0",
   "metadata": {},
   "outputs": [
    {
     "name": "stdout",
     "output_type": "stream",
     "text": [
      "('Aarav', 'Isha', 'Rohan', 'Priya', 'Aarav', 'Aarav', 'Isha', 'Rohan', 'Priya', 'Aarav')\n"
     ]
    }
   ],
   "source": [
    "repeated = names * 2\n",
    "print(repeated)"
   ]
  },
  {
   "cell_type": "markdown",
   "id": "0c3ef234-f924-44d8-8c43-d1aa169f97e4",
   "metadata": {},
   "source": [
    "## Length of tuple"
   ]
  },
  {
   "cell_type": "code",
   "execution_count": 56,
   "id": "584ad83b-9b4d-4706-a42f-6d9d79c41ea0",
   "metadata": {},
   "outputs": [
    {
     "name": "stdout",
     "output_type": "stream",
     "text": [
      "\n",
      "Length of names tuple:  5\n"
     ]
    }
   ],
   "source": [
    "print(\"\\nLength of names tuple: \", len(names))"
   ]
  },
  {
   "cell_type": "markdown",
   "id": "0d7456e2-e2c9-4167-95ee-3d9a275edba2",
   "metadata": {},
   "source": [
    "# Converting tuple to list (since tuples are imutable)"
   ]
  },
  {
   "cell_type": "code",
   "execution_count": 61,
   "id": "2954b3fd-ae3a-4ad6-b943-0804e3760156",
   "metadata": {},
   "outputs": [
    {
     "name": "stdout",
     "output_type": "stream",
     "text": [
      "['Aarav', 'Isha', 'Rohan', 'Priya', 'Aarav']\n"
     ]
    }
   ],
   "source": [
    "names_list = list(names)\n",
    "print(names_list)"
   ]
  },
  {
   "cell_type": "markdown",
   "id": "bcab02c7-7112-4791-8a9b-4e2d691c59f5",
   "metadata": {},
   "source": [
    "## Converting back to tuple"
   ]
  },
  {
   "cell_type": "code",
   "execution_count": 70,
   "id": "5028421f-b622-4465-a0b6-8317b89fcc7a",
   "metadata": {},
   "outputs": [
    {
     "name": "stdout",
     "output_type": "stream",
     "text": [
      "Back to tuple: ('Aarav', 'Isha', 'Rohan', 'Priya', 'Aarav')\n"
     ]
    }
   ],
   "source": [
    "names = tuple(names_list)\n",
    "print(\"Back to tuple:\", names)"
   ]
  },
  {
   "cell_type": "code",
   "execution_count": null,
   "id": "515fa61b-4a06-4828-b282-824c4c8d479d",
   "metadata": {},
   "outputs": [],
   "source": []
  }
 ],
 "metadata": {
  "kernelspec": {
   "display_name": "Python 3 (ipykernel)",
   "language": "python",
   "name": "python3"
  },
  "language_info": {
   "codemirror_mode": {
    "name": "ipython",
    "version": 3
   },
   "file_extension": ".py",
   "mimetype": "text/x-python",
   "name": "python",
   "nbconvert_exporter": "python",
   "pygments_lexer": "ipython3",
   "version": "3.11.5"
  }
 },
 "nbformat": 4,
 "nbformat_minor": 5
}
