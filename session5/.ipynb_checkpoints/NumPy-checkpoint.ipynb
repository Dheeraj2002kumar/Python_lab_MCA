{
 "cells": [
  {
   "cell_type": "markdown",
   "id": "647325f8-c3fd-406b-b5d8-c21533b35c70",
   "metadata": {},
   "source": [
    "# Usage of Numpy"
   ]
  },
  {
   "cell_type": "code",
   "execution_count": 3,
   "id": "dd99105b-9ba7-43b7-8050-f538499d19e7",
   "metadata": {},
   "outputs": [],
   "source": [
    "import numpy as np"
   ]
  },
  {
   "cell_type": "markdown",
   "id": "f921667e-21d7-4dc1-b126-4ba5f3804e89",
   "metadata": {},
   "source": [
    "## 1. Creating arrays"
   ]
  },
  {
   "cell_type": "code",
   "execution_count": 6,
   "id": "006a264d-cf87-47d2-84e7-b2c1e4a3d2f8",
   "metadata": {},
   "outputs": [],
   "source": [
    "arr1 = np.array([1, 2, 3, 4, 5])\n",
    "arr2 = np.array([\n",
    "    [1, 2, 3],\n",
    "    [4, 5, 6]\n",
    "])"
   ]
  },
  {
   "cell_type": "code",
   "execution_count": 8,
   "id": "1c5b31b6-c5f7-4555-9a71-236326b66f9d",
   "metadata": {},
   "outputs": [
    {
     "name": "stdout",
     "output_type": "stream",
     "text": [
      "1D Array: [1 2 3 4 5]\n",
      "2D Array:\n",
      " [[1 2 3]\n",
      " [4 5 6]]\n"
     ]
    }
   ],
   "source": [
    "print(\"1D Array:\", arr1)\n",
    "print(\"2D Array:\\n\", arr2)"
   ]
  },
  {
   "cell_type": "markdown",
   "id": "4cd108b3-4832-4577-a56a-29fde409a073",
   "metadata": {},
   "source": [
    "## 2. Array operations"
   ]
  },
  {
   "cell_type": "code",
   "execution_count": 11,
   "id": "1a0858c3-36c2-459c-93f7-3a8cf614fa96",
   "metadata": {},
   "outputs": [
    {
     "name": "stdout",
     "output_type": "stream",
     "text": [
      "Addition: [ 6  7  8  9 10]\n",
      "Multiplication:  [ 2  4  6  8 10]\n",
      "Square root: [1.         1.41421356 1.73205081 2.         2.23606798]\n"
     ]
    }
   ],
   "source": [
    "print(\"Addition:\", arr1 + 5)  # add 5 to each element\n",
    "print(\"Multiplication: \", arr1 * 2)  # multiply each element by 2\n",
    "print(\"Square root:\", np.sqrt(arr1))"
   ]
  },
  {
   "cell_type": "markdown",
   "id": "41969c33-cce5-4e80-8f50-3215e123e47f",
   "metadata": {},
   "source": [
    "## 3. Array statistics"
   ]
  },
  {
   "cell_type": "code",
   "execution_count": 14,
   "id": "7ce1200b-cf04-4b96-b86d-12154036ee1b",
   "metadata": {},
   "outputs": [
    {
     "name": "stdout",
     "output_type": "stream",
     "text": [
      "Sum: 15\n",
      "Mean: 3.0\n",
      "Max: 5\n",
      "Min: 1\n"
     ]
    }
   ],
   "source": [
    "print(\"Sum:\", np.sum(arr1))\n",
    "print(\"Mean:\", np.mean(arr1))\n",
    "print(\"Max:\", np.max(arr1))\n",
    "print(\"Min:\", np.min(arr1))"
   ]
  },
  {
   "cell_type": "markdown",
   "id": "e2f0878b-9c18-4c36-b6e1-a68eac6bac9d",
   "metadata": {},
   "source": [
    "### 4. Creating special arrays"
   ]
  },
  {
   "cell_type": "code",
   "execution_count": 17,
   "id": "23068c6e-bce7-4835-9495-40e0f0a4d0c6",
   "metadata": {},
   "outputs": [],
   "source": [
    "zeros = np.zeros((2, 3))  # 2x3 matrix of zeros\n",
    "ones = np.ones((3, 3))   # 3x3 matrix of ones"
   ]
  },
  {
   "cell_type": "code",
   "execution_count": 19,
   "id": "670d520b-7154-4168-a2e0-4850f3a507c8",
   "metadata": {},
   "outputs": [
    {
     "name": "stdout",
     "output_type": "stream",
     "text": [
      "Zeros:\n",
      " [[0. 0. 0.]\n",
      " [0. 0. 0.]]\n",
      "Ones:\n",
      "\n"
     ]
    },
    {
     "data": {
      "text/plain": [
       "(None,\n",
       " array([[1., 1., 1.],\n",
       "        [1., 1., 1.],\n",
       "        [1., 1., 1.]]))"
      ]
     },
     "execution_count": 19,
     "metadata": {},
     "output_type": "execute_result"
    }
   ],
   "source": [
    "print(\"Zeros:\\n\", zeros)\n",
    "print(\"Ones:\\n\"), ones"
   ]
  },
  {
   "cell_type": "code",
   "execution_count": null,
   "id": "dfa99f3c-354d-4f47-a2ee-16bd1351df6c",
   "metadata": {},
   "outputs": [],
   "source": []
  }
 ],
 "metadata": {
  "kernelspec": {
   "display_name": "Python 3 (ipykernel)",
   "language": "python",
   "name": "python3"
  },
  "language_info": {
   "codemirror_mode": {
    "name": "ipython",
    "version": 3
   },
   "file_extension": ".py",
   "mimetype": "text/x-python",
   "name": "python",
   "nbconvert_exporter": "python",
   "pygments_lexer": "ipython3",
   "version": "3.11.5"
  }
 },
 "nbformat": 4,
 "nbformat_minor": 5
}
