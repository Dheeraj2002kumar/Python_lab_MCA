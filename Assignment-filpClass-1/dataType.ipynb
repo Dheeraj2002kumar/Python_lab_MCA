{
 "cells": [
  {
   "cell_type": "markdown",
   "id": "1ad17bee",
   "metadata": {},
   "source": [
    "# Data Types in Python\n",
    "\n",
    "In Python, **datatypes** define the **kind of value** a variable can hold. Understanding data types is essential because every value in Python has a specific type, which determines:\n",
    "\n",
    "* What operations can be performed on the data\n",
    "* How much memory it takes\n",
    "* How Python interprets and represents it internally\n",
    "\n",
    "---\n",
    "\n",
    "## Categories of Datatypes in Python\n",
    "\n",
    "Python has several **built-in** data types, grouped into major categories:\n",
    "\n",
    "### 📦 1. **Basic (Primitive) Data Types**\n",
    "\n",
    "These are the simplest types used to store individual values.\n",
    "\n",
    "| Type       | Description                           | Example          |\n",
    "| ---------- | ------------------------------------- | ---------------- |\n",
    "| `int`      | Integer values (positive or negative) | `10`, `-5`, `0`  |\n",
    "| `float`    | Floating-point numbers (decimals)     | `3.14`, `-0.001` |\n",
    "| `bool`     | Boolean values (`True` or `False`)    | `True`, `False`  |\n",
    "| `complex`  | Complex numbers (real + imaginary)    | `2 + 3j`, `-1j`  |\n",
    "| `NoneType` | Special type representing \"no value\"  | `None`           |\n",
    "\n",
    "---\n",
    "\n",
    "\n",
    "### How to Check a Variable’s Type\n",
    "\n",
    "You can use the `type()` function:\n",
    "\n",
    "```python\n",
    "x = 42\n",
    "print(type(x))  # <class 'int'>\n",
    "```"
   ]
  },
  {
   "cell_type": "code",
   "execution_count": 53,
   "id": "44c1d395",
   "metadata": {},
   "outputs": [
    {
     "name": "stdout",
     "output_type": "stream",
     "text": [
      "x: 10, type: <class 'int'>\n",
      "pi: 3.14, type: <class 'float'>\n",
      "flag: True, type: <class 'bool'>\n",
      "z: (2+3j), type: <class 'complex'>\n",
      "nothing: None, type: <class 'NoneType'>\n"
     ]
    }
   ],
   "source": [
    "# Primitive types\n",
    "x = 10              # int\n",
    "pi = 3.14           # float\n",
    "flag = True         # bool\n",
    "z = 2 + 3j          # complex\n",
    "nothing = None      # NoneType\n",
    "\n",
    "print(f\"x: {x}, type: {type(x)}\")\n",
    "print(f\"pi: {pi}, type: {type(pi)}\")\n",
    "print(f\"flag: {flag}, type: {type(flag)}\")\n",
    "print(f\"z: {z}, type: {type(z)}\")\n",
    "print(f\"nothing: {nothing}, type: {type(nothing)}\")\n"
   ]
  },
  {
   "cell_type": "markdown",
   "id": "bccd4b6c",
   "metadata": {},
   "source": [
    "### 🧵 2. **Text Type**\n",
    "\n",
    "Used to store and manipulate textual data.\n",
    "\n",
    "| Type  | Description                      | Example            |\n",
    "| ----- | -------------------------------- | ------------------ |\n",
    "| `str` | A sequence of Unicode characters | `\"Hello\"`, `'123'` |\n",
    "\n",
    "Strings can be enclosed in single quotes `'...'` or double quotes `\"...\"`."
   ]
  },
  {
   "cell_type": "code",
   "execution_count": 54,
   "id": "0c1542df",
   "metadata": {},
   "outputs": [
    {
     "name": "stdout",
     "output_type": "stream",
     "text": [
      "name: Python, type: <class 'str'>\n",
      "First character: P\n",
      "Substring (1-3): yth\n",
      "Length: 6\n"
     ]
    }
   ],
   "source": [
    "\n",
    "# String\n",
    "name = \"Python\"     # str\n",
    "\n",
    "print(f\"name: {name}, type: {type(name)}\")\n",
    "print(f\"First character: {name[0]}\")\n",
    "print(f\"Substring (1-3): {name[1:4]}\")\n",
    "print(f\"Length: {len(name)}\")\n"
   ]
  },
  {
   "cell_type": "code",
   "execution_count": 55,
   "id": "6e8e2e07",
   "metadata": {},
   "outputs": [
    {
     "name": "stdout",
     "output_type": "stream",
     "text": [
      "Uppercase: PYTHON\n",
      "Lowercase: python\n",
      "Replace 'P' with 'J': Jython\n",
      "Find 't': 2\n",
      "Split by 'y': ['P', 'thon']\n",
      "Is alphabetic: True\n",
      "Is numeric: False\n",
      "Is alphanumeric: True\n",
      "Is lowercase: False\n",
      "Is uppercase: False\n",
      "Count of 'o': 1\n",
      "Starts with 'Py': True\n",
      "Ends with 'on': True\n",
      "Strip whitespace: Python\n",
      "Center with '*': *******Python*******\n",
      "Join with '-': P-y-t-h-o-n\n"
     ]
    }
   ],
   "source": [
    "# String methods\n",
    "print(f\"Uppercase: {name.upper()}\")\n",
    "print(f\"Lowercase: {name.lower()}\")\n",
    "print(f\"Replace 'P' with 'J': {name.replace('P', 'J')}\")\n",
    "print(f\"Find 't': {name.find('t')}\")\n",
    "print(f\"Split by 'y': {name.split('y')}\")   \n",
    "print(f\"Is alphabetic: {name.isalpha()}\")\n",
    "print(f\"Is numeric: {name.isdigit()}\")\n",
    "print(f\"Is alphanumeric: {name.isalnum()}\")\n",
    "print(f\"Is lowercase: {name.islower()}\")\n",
    "print(f\"Is uppercase: {name.isupper()}\")\n",
    "print(f\"Count of 'o': {name.count('o')}\")\n",
    "print(f\"Starts with 'Py': {name.startswith('Py')}\")\n",
    "print(f\"Ends with 'on': {name.endswith('on')}\")\n",
    "print(f\"Strip whitespace: {'  Python  '.strip()}\")\n",
    "print(f\"Center with '*': {name.center(20, '*')}\")\n",
    "print(f\"Join with '-': {'-'.join(name)}\")\n"
   ]
  },
  {
   "cell_type": "markdown",
   "id": "a8836585",
   "metadata": {},
   "source": [
    "### 📚 3. **Sequence Types**\n",
    "\n",
    "These types represent collections of items **in a specific order**.\n",
    "\n",
    "| Type    | Description                           | Example                   |\n",
    "| ------- | ------------------------------------- | ------------------------- |\n",
    "| `list`  | Ordered, mutable, allows duplicates   | `[1, 2, 3]`, `['a', 'b']` |\n",
    "| `tuple` | Ordered, immutable, allows duplicates | `(10, 20, 30)`, `('x',)`  |\n",
    "| `range` | Represents a sequence of numbers      | `range(5)` → `0,1,2,3,4`  |\n"
   ]
  },
  {
   "cell_type": "markdown",
   "id": "f10dce4c",
   "metadata": {},
   "source": [
    "### List\n"
   ]
  },
  {
   "cell_type": "code",
   "execution_count": 56,
   "id": "9b82e7bf",
   "metadata": {},
   "outputs": [
    {
     "name": "stdout",
     "output_type": "stream",
     "text": [
      "List: [1, 2, 3], type: <class 'list'>\n",
      "First element of list: 1\n"
     ]
    }
   ],
   "source": [
    "# Sequence types\n",
    "lst = [1, 2, 3]     # list\n",
    "\n",
    "print(f\"List: {lst}, type: {type(lst)}\")\n",
    "print(f\"First element of list: {lst[0]}\")\n"
   ]
  },
  {
   "cell_type": "markdown",
   "id": "06a2f0da",
   "metadata": {},
   "source": [
    "### List Methods"
   ]
  },
  {
   "cell_type": "code",
   "execution_count": 57,
   "id": "49d81139",
   "metadata": {},
   "outputs": [
    {
     "name": "stdout",
     "output_type": "stream",
     "text": [
      "List length: 3\n",
      "List append 4: [1, 2, 3, 4]\n",
      "List contains 2: True\n",
      "List count of 2: 1\n",
      "List index of 3: 2\n",
      "List reverse: [3, 2, 1]\n",
      "List slice (1-2): [2, 3]\n",
      "List extend [5,6]: [1, 2, 3, 5, 6]\n",
      "List pop last: [1, 2]\n",
      "List clear: []\n",
      "List sort: [1, 2, 3]\n",
      "List copy: [1, 2, 3]\n"
     ]
    }
   ],
   "source": [
    "# list methods\n",
    "\n",
    "print(f\"List length: {len(lst)}\")\n",
    "print(f\"List append 4: {lst + [4]}\")\n",
    "print(f\"List contains 2: {2 in lst}\")\n",
    "print(f\"List count of 2: {lst.count(2)}\")\n",
    "print(f\"List index of 3: {lst.index(3)}\")\n",
    "print(f\"List reverse: {lst[::-1]}\")\n",
    "print(f\"List slice (1-2): {lst[1:3]}\")\n",
    "print(f\"List extend [5,6]: {lst + [5,6]}\")\n",
    "print(f\"List pop last: {lst[:-1]}\")\n",
    "print(f\"List clear: {[]}\")\n",
    "print(f\"List sort: {sorted(lst)}\")\n",
    "print(f\"List copy: {lst.copy()}\")\n"
   ]
  },
  {
   "cell_type": "code",
   "execution_count": 58,
   "id": "0f04d740",
   "metadata": {},
   "outputs": [
    {
     "name": "stdout",
     "output_type": "stream",
     "text": [
      "Tuple: (4, 5, 6), type: <class 'tuple'>\n",
      "First element of tuple: 4\n"
     ]
    }
   ],
   "source": [
    "tpl = (4, 5, 6)     # tuple\n",
    "\n",
    "print(f\"Tuple: {tpl}, type: {type(tpl)}\")\n",
    "print(f\"First element of tuple: {tpl[0]}\")\n"
   ]
  },
  {
   "cell_type": "markdown",
   "id": "231187fa",
   "metadata": {},
   "source": [
    "### Tuple Methods"
   ]
  },
  {
   "cell_type": "code",
   "execution_count": 59,
   "id": "746bbf9c",
   "metadata": {},
   "outputs": [
    {
     "name": "stdout",
     "output_type": "stream",
     "text": [
      "Tuple length: 3\n",
      "Tuple concatenation: (4, 5, 6, 7)\n",
      "Tuple contains 5: True\n",
      "Tuple count of 5: 1\n",
      "Tuple index of 6: 2\n",
      "Tuple reverse: (6, 5, 4)\n",
      "Tuple slice (1-2): (5, 6)\n",
      "Tuple extend (7,8): (4, 5, 6, 7, 8)\n",
      "Tuple pop last: (4, 5)\n",
      "Tuple clear: ()\n",
      "Tuple sort: [4, 5, 6]\n",
      "Tuple copy: (4, 5, 6)\n"
     ]
    }
   ],
   "source": [
    "# tuple methods\n",
    "print(f\"Tuple length: {len(tpl)}\")\n",
    "print(f\"Tuple concatenation: {tpl + (7,)}\")\n",
    "print(f\"Tuple contains 5: {5 in tpl}\")\n",
    "print(f\"Tuple count of 5: {tpl.count(5)}\")\n",
    "print(f\"Tuple index of 6: {tpl.index(6)}\")\n",
    "print(f\"Tuple reverse: {tpl[::-1]}\")\n",
    "print(f\"Tuple slice (1-2): {tpl[1:3]}\")\n",
    "print(f\"Tuple extend (7,8): {tpl + (7,8)}\")\n",
    "print(f\"Tuple pop last: {tpl[:-1]}\")\n",
    "print(f\"Tuple clear: {()}\")\n",
    "print(f\"Tuple sort: {sorted(tpl)}\")\n",
    "print(f\"Tuple copy: {tpl}\")  # Tuples are immutable, so just reference\n"
   ]
  },
  {
   "cell_type": "markdown",
   "id": "2afa47d9",
   "metadata": {},
   "source": [
    "### Range"
   ]
  },
  {
   "cell_type": "code",
   "execution_count": 60,
   "id": "c4bdecc0",
   "metadata": {},
   "outputs": [
    {
     "name": "stdout",
     "output_type": "stream",
     "text": [
      "Range: [0, 1, 2], type: <class 'range'>\n",
      "Range length: 3\n",
      "Range to list: [0, 1, 2]\n",
      "Range contains 2: True\n",
      "Range reverse: [2, 1, 0]\n",
      "Range slice (1-2): [1, 2]\n",
      "Range to list: [0, 1, 2]\n"
     ]
    }
   ],
   "source": [
    "rng = range(3)      # range\n",
    "\n",
    "print(f\"Range: {list(rng)}, type: {type(rng)}\")\n",
    "print(f\"Range length: {len(rng)}\")\n",
    "print(f\"Range to list: {list(rng)}\")\n",
    "print(f\"Range contains 2: {2 in rng}\")\n",
    "print(f\"Range reverse: {list(rng)[::-1]}\")\n",
    "print(f\"Range slice (1-2): {list(rng)[1:3]}\")\n",
    "print(f\"Range to list: {list(rng)}\")\n"
   ]
  },
  {
   "cell_type": "markdown",
   "id": "8aaf1bb5",
   "metadata": {},
   "source": [
    "### 🗂️ 4. **Set Types**\n",
    "\n",
    "Used to store multiple unique items (unordered and unindexed).\n",
    "\n",
    "| Type        | Description                       | Example                  |\n",
    "| ----------- | --------------------------------- | ------------------------ |\n",
    "| `set`       | Unordered, mutable, no duplicates | `{1, 2, 3}`, `{\"apple\"}` |\n",
    "| `frozenset` | Immutable version of set          | `frozenset([1,2,3])`     |\n"
   ]
  },
  {
   "cell_type": "markdown",
   "id": "af822ced",
   "metadata": {},
   "source": [
    "### Set"
   ]
  },
  {
   "cell_type": "code",
   "execution_count": 61,
   "id": "9b5220cb",
   "metadata": {},
   "outputs": [
    {
     "name": "stdout",
     "output_type": "stream",
     "text": [
      "Set: {1, 2, 3}, type: <class 'set'>\n",
      "First element of set (not ordered): 1\n"
     ]
    }
   ],
   "source": [
    "# Set types\n",
    "s = {1, 2, 3}       # set\n",
    "\n",
    "print(f\"Set: {s}, type: {type(s)}\")\n",
    "print(f\"First element of set (not ordered): {next(iter(s))}\")\n"
   ]
  },
  {
   "cell_type": "markdown",
   "id": "f5798cae",
   "metadata": {},
   "source": [
    "### Set Methods"
   ]
  },
  {
   "cell_type": "code",
   "execution_count": 62,
   "id": "dfb58ab2",
   "metadata": {},
   "outputs": [
    {
     "name": "stdout",
     "output_type": "stream",
     "text": [
      "Set length: 3\n",
      "Set add 4: {1, 2, 3, 4}\n",
      "Set contains 2: True\n",
      "Set remove 2: {1, 3}\n",
      "Set intersection with {2,3}: {2, 3}\n",
      "Set union with {4,5}: {1, 2, 3, 4, 5}\n",
      "Set difference with {2}: {1, 3}\n",
      "Set symmetric difference with {2,4}: {1, 3, 4}\n",
      "Set clear: set()\n",
      "Set copy: {1, 2, 3}\n"
     ]
    }
   ],
   "source": [
    "print(f\"Set length: {len(s)}\")\n",
    "print(f\"Set add 4: {s.union({4})}\")\n",
    "print(f\"Set contains 2: {2 in s}\")\n",
    "print(f\"Set remove 2: {s - {2}}\")\n",
    "print(f\"Set intersection with {{2,3}}: {s.intersection({2,3})}\")\n",
    "print(f\"Set union with {{4,5}}: {s.union({4,5})}\")\n",
    "print(f\"Set difference with {{2}}: {s.difference({2})}\")\n",
    "print(f\"Set symmetric difference with {{2,4}}: {s.symmetric_difference({2,4})}\")\n",
    "print(f\"Set clear: {set()}\")\n",
    "print(f\"Set copy: {s.copy()}\")\n"
   ]
  },
  {
   "cell_type": "markdown",
   "id": "6da80f7c",
   "metadata": {},
   "source": [
    "### Frozenset"
   ]
  },
  {
   "cell_type": "code",
   "execution_count": 63,
   "id": "d1792b73",
   "metadata": {},
   "outputs": [
    {
     "name": "stdout",
     "output_type": "stream",
     "text": [
      "Frozenset: frozenset({1, 2, 3}), type: <class 'frozenset'>\n"
     ]
    }
   ],
   "source": [
    "fs = frozenset([1, 2, 3])  # frozenset\n",
    "\n",
    "print(f\"Frozenset: {fs}, type: {type(fs)}\")\n"
   ]
  },
  {
   "cell_type": "markdown",
   "id": "d2fa3015",
   "metadata": {},
   "source": [
    "### Frozenset Methods"
   ]
  },
  {
   "cell_type": "code",
   "execution_count": 64,
   "id": "0966fc49",
   "metadata": {},
   "outputs": [
    {
     "name": "stdout",
     "output_type": "stream",
     "text": [
      "Frozenset contains 2: True\n",
      "Frozenset intersection with {2,3}: frozenset({2, 3})\n",
      "Frozenset union with {4,5}: frozenset({1, 2, 3, 4, 5})\n",
      "Frozenset difference with {2}: frozenset({1, 3})\n",
      "Frozenset symmetric difference with {2,4}: frozenset({1, 3, 4})\n",
      "Frozenset copy: frozenset({1, 2, 3})\n"
     ]
    }
   ],
   "source": [
    "print(f\"Frozenset contains 2: {2 in fs}\")\n",
    "print(f\"Frozenset intersection with {{2,3}}: {fs.intersection({2,3})}\")\n",
    "print(f\"Frozenset union with {{4,5}}: {fs.union({4,5})}\")\n",
    "print(f\"Frozenset difference with {{2}}: {fs.difference({2})}\")\n",
    "print(f\"Frozenset symmetric difference with {{2,4}}: {fs.symmetric_difference({2,4})}\") \n",
    "print(f\"Frozenset copy: {fs.copy()}\")\n"
   ]
  },
  {
   "cell_type": "markdown",
   "id": "6d959cfa",
   "metadata": {},
   "source": [
    "### 🧾 5. **Mapping Type**\n",
    "\n",
    "Stores data in **key-value** pairs.\n",
    "\n",
    "| Type   | Description                                             | Example                        |\n",
    "| ------ | ------------------------------------------------------- | ------------------------------ |\n",
    "| `dict` | Unordered (as of Python 3.7+, ordered), mutable mapping | `{\"name\": \"Alice\", \"age\": 25}` |\n"
   ]
  },
  {
   "cell_type": "code",
   "execution_count": 65,
   "id": "ad87d614",
   "metadata": {},
   "outputs": [
    {
     "name": "stdout",
     "output_type": "stream",
     "text": [
      "Dictionary: {'name': 'Alice', 'age': 25}, type: <class 'dict'>\n",
      "Get name: Alice\n",
      "Dictionary keys: dict_keys(['name', 'age'])\n",
      "Dictionary values: dict_values(['Alice', 25])\n",
      "Dictionary items: dict_items([('name', 'Alice'), ('age', 25)])\n",
      "\n",
      "Dictionary keys: ['name', 'age']\n",
      "Dictionary values: ['Alice', 25]\n",
      "Dictionary items: [('name', 'Alice'), ('age', 25)]\n"
     ]
    }
   ],
   "source": [
    "\n",
    "# Dictionary (mapping)\n",
    "person = {\"name\": \"Alice\", \"age\": 25}\n",
    "\n",
    "print(f\"Dictionary: {person}, type: {type(person)}\")\n",
    "print(f\"Get name: {person['name']}\")\n",
    "\n",
    "\n",
    "print(f\"Dictionary keys: {person.keys()}\")\n",
    "print(f\"Dictionary values: {person.values()}\")\n",
    "print(f\"Dictionary items: {person.items()}\")\n",
    "print()\n",
    "\n",
    "print(f\"Dictionary keys: {list(person.keys())}\")\n",
    "print(f\"Dictionary values: {list(person.values())}\")\n",
    "print(f\"Dictionary items: {list(person.items())}\")\n"
   ]
  },
  {
   "cell_type": "code",
   "execution_count": 66,
   "id": "d407cff8",
   "metadata": {},
   "outputs": [
    {
     "name": "stdout",
     "output_type": "stream",
     "text": [
      "{'name': 'Alice', 'age': 25}\n",
      "Added city: New York\n",
      "name: Alice\n",
      "age: 25\n",
      "city: New York\n",
      "Updated age: 26\n",
      "After deletion: {'age': 26, 'city': 'New York'}\n"
     ]
    }
   ],
   "source": [
    "print(person)\n",
    "\n",
    "# Perform CRUD operations\n",
    "\n",
    "person[\"city\"] = \"New York\"  # Create\n",
    "print(f\"Added city: {person['city']}\")\n",
    "\n",
    "# Read dictionary\n",
    "for key, value in person.items():\n",
    "    print(f\"{key}: {value}\")\n",
    "\n",
    "\n",
    "person[\"age\"] = 26  # Update\n",
    "print(f\"Updated age: {person['age']}\")\n",
    "\n",
    "del person[\"name\"]  # Delete\n",
    "print(f\"After deletion: {person}\")\n",
    "\n"
   ]
  },
  {
   "cell_type": "markdown",
   "id": "2bea7cff",
   "metadata": {},
   "source": [
    "\n",
    "### 📎 6. **Binary Types**\n",
    "\n",
    "Used to store binary data, such as in files or network communications.\n",
    "\n",
    "| Type         | Description                   | Example                    |\n",
    "| ------------ | ----------------------------- | -------------------------- |\n",
    "| `bytes`      | Immutable sequence of bytes   | `b'hello'`                 |\n",
    "| `bytearray`  | Mutable version of `bytes`    | `bytearray([50, 100, 76])` |\n",
    "| `memoryview` | Views of memory used by bytes | `memoryview(b\"hello\")`     |\n"
   ]
  },
  {
   "cell_type": "code",
   "execution_count": 67,
   "id": "e0dcb9e9",
   "metadata": {},
   "outputs": [
    {
     "name": "stdout",
     "output_type": "stream",
     "text": [
      "Bytes: b'hello', type: <class 'bytes'>\n",
      "Bytes length: 5\n",
      "Bytes to list: [104, 101, 108, 108, 111]\n"
     ]
    }
   ],
   "source": [
    "\n",
    "# Binary types\n",
    "b = b\"hello\"        # bytes\n",
    "# b is used for bytes \n",
    "\n",
    "print(f\"Bytes: {b}, type: {type(b)}\")\n",
    "print(f\"Bytes length: {len(b)}\")\n",
    "print(f\"Bytes to list: {list(b)}\")  \n"
   ]
  },
  {
   "cell_type": "code",
   "execution_count": 68,
   "id": "ed6c0116",
   "metadata": {},
   "outputs": [
    {
     "name": "stdout",
     "output_type": "stream",
     "text": [
      "b'hello'\n",
      "Bytearray: bytearray(b'hello'), type: <class 'bytearray'>\n",
      "First byte of bytearray: 104\n",
      "Bytearray length: 5\n",
      "Bytearray append 33: bytearray(b'hello!')\n",
      "Bytearray contains 101: True\n"
     ]
    }
   ],
   "source": [
    "print(b)\n",
    "ba = bytearray(b)   # bytearray\n",
    "\n",
    "print(f\"Bytearray: {ba}, type: {type(ba)}\")\n",
    "print(f\"First byte of bytearray: {ba[0]}\")\n",
    "print(f\"Bytearray length: {len(ba)}\")   \n",
    "print(f\"Bytearray append 33: {ba + bytearray([33])}\")  # Append '!'\n",
    "print(f\"Bytearray contains 101: {101 in ba}\")  # 'e'\n"
   ]
  },
  {
   "cell_type": "code",
   "execution_count": 69,
   "id": "a196fd3b",
   "metadata": {},
   "outputs": [
    {
     "name": "stdout",
     "output_type": "stream",
     "text": [
      "Memoryview: <memory at 0x0000018C1C95AA40>, type: <class 'memoryview'>\n",
      "First byte of memoryview: 104\n",
      "Memoryview to bytes: b'hello'\n",
      "Memoryview to list: [104, 101, 108, 108, 111]\n"
     ]
    }
   ],
   "source": [
    "mv = memoryview(b)  # memoryview\n",
    "\n",
    "print(f\"Memoryview: {mv}, type: {type(mv)}\")\n",
    "print(f\"First byte of memoryview: {mv[0]}\")\n",
    "\n",
    "print(f\"Memoryview to bytes: {mv.tobytes()}\")\n",
    "# getting b'hello' again because memoryview is a view of the original bytes object\n",
    "\n",
    "print(f\"Memoryview to list: {list(mv)}\")\n"
   ]
  },
  {
   "cell_type": "markdown",
   "id": "a361246b",
   "metadata": {},
   "source": [
    "## 🔄 Mutable vs Immutable Data Types\n",
    "\n",
    "| Type                                                | Mutable?    | Notes                            |\n",
    "| --------------------------------------------------- | ----------- | -------------------------------- |\n",
    "| `int`, `float`, `bool`, `str`, `tuple`, `frozenset` | ❌ Immutable | Cannot be changed after creation |\n",
    "| `list`, `dict`, `set`, `bytearray`                  | ✅ Mutable   | Can be changed in-place          |\n"
   ]
  },
  {
   "cell_type": "markdown",
   "id": "6c5c1a8c",
   "metadata": {},
   "source": [
    "## 📋 Summary Table\n",
    "\n",
    "| Category | Types                              |\n",
    "| -------- | ---------------------------------- |\n",
    "| Numeric  | `int`, `float`, `complex`          |\n",
    "| Text     | `str`                              |\n",
    "| Boolean  | `bool`                             |\n",
    "| Sequence | `list`, `tuple`, `range`           |\n",
    "| Set      | `set`, `frozenset`                 |\n",
    "| Mapping  | `dict`                             |\n",
    "| Binary   | `bytes`, `bytearray`, `memoryview` |\n",
    "| Special  | `NoneType`                         |\n"
   ]
  }
 ],
 "metadata": {
  "kernelspec": {
   "display_name": "base",
   "language": "python",
   "name": "python3"
  },
  "language_info": {
   "codemirror_mode": {
    "name": "ipython",
    "version": 3
   },
   "file_extension": ".py",
   "mimetype": "text/x-python",
   "name": "python",
   "nbconvert_exporter": "python",
   "pygments_lexer": "ipython3",
   "version": "3.11.5"
  }
 },
 "nbformat": 4,
 "nbformat_minor": 5
}
