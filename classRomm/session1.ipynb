{
 "cells": [
  {
   "cell_type": "markdown",
   "id": "2612e359",
   "metadata": {},
   "source": [
    "## Class Room session 1"
   ]
  },
  {
   "cell_type": "code",
   "execution_count": 2,
   "id": "e2d23c7c",
   "metadata": {},
   "outputs": [
    {
     "name": "stdout",
     "output_type": "stream",
     "text": [
      "Your number is  55\n"
     ]
    }
   ],
   "source": [
    "a = int(input(\"Enter the number: \"))\n",
    "print(\"Your number is \", a)\n"
   ]
  },
  {
   "cell_type": "markdown",
   "id": "6def2591",
   "metadata": {},
   "source": [
    "# Dictionaries"
   ]
  },
  {
   "cell_type": "code",
   "execution_count": 9,
   "id": "a0d62b3e",
   "metadata": {},
   "outputs": [
    {
     "name": "stdout",
     "output_type": "stream",
     "text": [
      "30\n",
      "30\n",
      "{'name': 'Dheeraj', 'age': 35, 'city': 'Mumbai'}\n"
     ]
    }
   ],
   "source": [
    "my_dict = {\n",
    "    'name': 'Dheeraj',\n",
    "    'age': 30,\n",
    "    'city': 'Mumbai'\n",
    "}\n",
    "\n",
    "my_dict1 = dict({ 1: 'apple', 2: 'ball'})\n",
    "\n",
    "print(my_dict['age'])\n",
    "\n",
    "print(my_dict.get('age'))\n",
    "\n",
    "# update value\n",
    "\n",
    "my_dict['age'] = 35\n",
    "\n",
    "print(my_dict)\n"
   ]
  },
  {
   "cell_type": "code",
   "execution_count": 10,
   "id": "4ed0532a",
   "metadata": {},
   "outputs": [],
   "source": [
    "my_dict['email'] = 'dk@gmail.com'\n"
   ]
  },
  {
   "cell_type": "code",
   "execution_count": null,
   "id": "b9286e0d",
   "metadata": {},
   "outputs": [
    {
     "data": {
      "text/plain": [
       "{'name': 'Dheeraj', 'age': 35, 'city': 'Mumbai', 'email': 'dk@gmail.com'}"
      ]
     },
     "execution_count": 11,
     "metadata": {},
     "output_type": "execute_result"
    }
   ],
   "source": [
    "my_dict\n"
   ]
  },
  {
   "cell_type": "code",
   "execution_count": 12,
   "id": "5b83e78b",
   "metadata": {},
   "outputs": [
    {
     "name": "stdout",
     "output_type": "stream",
     "text": [
      "Dheeraj\n",
      "35\n",
      "Mumbai\n",
      "dk@gmail.com\n"
     ]
    }
   ],
   "source": [
    "for x in my_dict:\n",
    "    print(my_dict[x])\n"
   ]
  },
  {
   "cell_type": "code",
   "execution_count": 13,
   "id": "cc66a67c",
   "metadata": {},
   "outputs": [
    {
     "name": "stdout",
     "output_type": "stream",
     "text": [
      "{'name': 'Dheeraj', 'age': 35, 'city': 'Mumbai', 'email': 'dk@gmail.com'}\n"
     ]
    }
   ],
   "source": [
    "new_dict = my_dict.copy()\n",
    "print(new_dict)\n"
   ]
  },
  {
   "cell_type": "code",
   "execution_count": null,
   "id": "f9c57fbd",
   "metadata": {},
   "outputs": [],
   "source": []
  }
 ],
 "metadata": {
  "kernelspec": {
   "display_name": "Python 3",
   "language": "python",
   "name": "python3"
  },
  "language_info": {
   "codemirror_mode": {
    "name": "ipython",
    "version": 3
   },
   "file_extension": ".py",
   "mimetype": "text/x-python",
   "name": "python",
   "nbconvert_exporter": "python",
   "pygments_lexer": "ipython3",
   "version": "3.12.2"
  }
 },
 "nbformat": 4,
 "nbformat_minor": 5
}
