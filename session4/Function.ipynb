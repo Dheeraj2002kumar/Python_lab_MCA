{
 "cells": [
  {
   "cell_type": "markdown",
   "id": "932279f0-bd90-468b-97e2-e29123e774c8",
   "metadata": {},
   "source": [
    "## Normal function to get full name of a student"
   ]
  },
  {
   "cell_type": "code",
   "execution_count": 6,
   "id": "17453455-f6f1-4e48-a3a0-0e80d8f590ba",
   "metadata": {},
   "outputs": [],
   "source": [
    "def full_name(first_name, last_name):\n",
    "    return first_name + \" \" + last_name"
   ]
  },
  {
   "cell_type": "markdown",
   "id": "41905404-0220-4e50-8653-ba4e24253c0a",
   "metadata": {},
   "source": [
    "## Lambda function to calculate percentage"
   ]
  },
  {
   "cell_type": "code",
   "execution_count": 9,
   "id": "22a1c679-d330-45b9-b03b-767992e34eab",
   "metadata": {},
   "outputs": [],
   "source": [
    "percentage = lambda obtained, total: (obtained / total) * 100"
   ]
  },
  {
   "cell_type": "code",
   "execution_count": 11,
   "id": "2a98f280-57d9-4005-85df-fa7b3e61de07",
   "metadata": {},
   "outputs": [],
   "source": [
    "# student data\n",
    "students = [\n",
    "    {\n",
    "        \"first\": \"Amit\",\n",
    "        \"last\": \"Sharma\", \n",
    "        \"marks\": 450, \n",
    "        \"total\": 500\n",
    "    },\n",
    "    {\n",
    "        \"first\": \"Riya\",\n",
    "        \"last\": \"Patil\", \n",
    "        \"marks\": 380, \n",
    "        \"total\": 500\n",
    "    },\n",
    "    {\n",
    "        \"first\": \"Siddhi\",\n",
    "        \"last\": \"Mukadam\", \n",
    "        \"marks\": 420, \n",
    "        \"total\": 500\n",
    "    },\n",
    "]"
   ]
  },
  {
   "cell_type": "markdown",
   "id": "3dcc0ae3-71ce-458b-b349-d0dc06b43be7",
   "metadata": {},
   "source": [
    "### Use function"
   ]
  },
  {
   "cell_type": "code",
   "execution_count": 14,
   "id": "99cea87f-1276-41e0-afad-08d21404ddd3",
   "metadata": {},
   "outputs": [
    {
     "name": "stdout",
     "output_type": "stream",
     "text": [
      "Student: Amit Sharma | Percentage:  90.00%\n",
      "Student: Riya Patil | Percentage:  76.00%\n",
      "Student: Siddhi Mukadam | Percentage:  84.00%\n"
     ]
    }
   ],
   "source": [
    "for s in students:\n",
    "    name = full_name(s[\"first\"], s[\"last\"])   # normal function\n",
    "    perc = percentage(s[\"marks\"], s[\"total\"])   #lambda function \n",
    "    print(f\"Student: {name} | Percentage: {perc: .2f}%\")"
   ]
  },
  {
   "cell_type": "markdown",
   "id": "be4d4cbd-35a2-454d-a92a-d2071e4eebf0",
   "metadata": {},
   "source": [
    "## 1. Single inheritance"
   ]
  },
  {
   "cell_type": "code",
   "execution_count": 17,
   "id": "400666e5-4ba8-47dc-9132-0ea7c0a864af",
   "metadata": {},
   "outputs": [],
   "source": [
    "class Stationery:\n",
    "    def __init__(self, name, price):\n",
    "        self.name = name\n",
    "        self.price = price\n",
    "\n",
    "    def display_info(self):\n",
    "        print(f\"Stationery: {self.name}, Price: {self.price}\")\n",
    "\n",
    "class Pen(Stationery):   # Single Inheritance\n",
    "    def __init__(self, name, price, ink_color):\n",
    "        super().__init__(name, price)\n",
    "        self.ink_color = ink_color\n",
    "\n",
    "    def display_info(self):\n",
    "        super().display_info()\n",
    "        print(f\"Ink Color: {self.ink_color}\")"
   ]
  },
  {
   "cell_type": "markdown",
   "id": "cd716d69-52c2-4691-9c99-bd2a3a2e022b",
   "metadata": {},
   "source": [
    "## 2. Multiple Inheritance"
   ]
  },
  {
   "cell_type": "code",
   "execution_count": 38,
   "id": "2faf159c-905f-4cd7-8c80-82047efe5a1e",
   "metadata": {},
   "outputs": [],
   "source": [
    "class Brand:\n",
    "    def __init__(self, brand_name):\n",
    "        self.brand_name = brand_name\n",
    "\n",
    "    def show_brand(self):\n",
    "        print(f\"Brand: {self.brand_name}\")\n",
    "\n",
    "class Marker(Stationery, Brand):   # Multiple Inheritance\n",
    "    def __init__(self, name, price, tip_size, brand_name):\n",
    "        Stationery.__init__(self, name, price)\n",
    "        Brand.__init__(self, brand_name)\n",
    "        self.tip_size = tip_size\n",
    "\n",
    "    def display_info(self):\n",
    "        super().display_info()\n",
    "        self.show_brand()\n",
    "        print(f\"Tip Size: {self.tip_size} mm\")"
   ]
  },
  {
   "cell_type": "markdown",
   "id": "653326d2-93da-4e9a-8e18-5afe6d6f1cc0",
   "metadata": {},
   "source": [
    "## 3. Multilevel Inheritance"
   ]
  },
  {
   "cell_type": "code",
   "execution_count": 41,
   "id": "ad7d51a3-bccc-4018-b107-bb2f3f64fa83",
   "metadata": {},
   "outputs": [],
   "source": [
    "class WritingInstrument(Stationery):\n",
    "    def __init__(self, name, price, type):\n",
    "        super().__init__(name, price)\n",
    "        self.type = type\n",
    "\n",
    "class Pencil(WritingInstrument):  # Multilevel(Stationery --> WritingInstrument --> pencil)\n",
    "    def __init__(self, name, price, hardness):\n",
    "        super().__init__(name, price, \"Pencil\")\n",
    "        self.hardness = hardness\n",
    "\n",
    "    def display_info(self):\n",
    "        super().display_info()\n",
    "        print(f\"Type: {self.type}, Hardness: {self.hardness}\")"
   ]
  },
  {
   "cell_type": "markdown",
   "id": "1e44d326-c62d-4882-baa2-e444075d6897",
   "metadata": {},
   "source": [
    "## 4. Hierarchical Inheritance"
   ]
  },
  {
   "cell_type": "code",
   "execution_count": 76,
   "id": "0cb85a1c-2607-4476-ac31-811a88ef1f69",
   "metadata": {},
   "outputs": [],
   "source": [
    "class Eraser(Stationery):  # Child 1\n",
    "    def __init__(self, name, price, material):\n",
    "        super().__init__(name, price)\n",
    "        self.material = material\n",
    "\n",
    "    def display_info(self):\n",
    "        super().display_info()\n",
    "        print(f\"Material: {self.material}\")\n",
    "\n",
    "class Sharpener(Stationery):  # child 2\n",
    "    def __init__(self, name, price, blade_type):\n",
    "        super().__init__(name, price)\n",
    "        self.blade_type = blade_type\n",
    "\n",
    "    def display_info(self):\n",
    "        super().display_info()\n",
    "        print(f\"Blade Type: {self.blade_type}\")\n",
    "        "
   ]
  },
  {
   "cell_type": "markdown",
   "id": "d9265d92-385b-4300-8744-d9cbd5756c1c",
   "metadata": {},
   "source": [
    "## 5. Hybrid Inheritance (Combination)"
   ]
  },
  {
   "cell_type": "code",
   "execution_count": 96,
   "id": "c3fb0465-2d2c-42bc-b7b1-b0310f4c1243",
   "metadata": {},
   "outputs": [],
   "source": [
    "class Highlighter(Marker, WritingInstrument): # Multiple + Multilavel --> Hybrid\n",
    "    def __init__(self, name, price, ink_color, brand_name):\n",
    "        Marker.__init__(self, name, price, 1.0, brand_name)  # Marker properties\n",
    "        WritingInstrument.__init__(self, name, price, \"Highlighter\")  # WritingInstrument\n",
    "        self.ink_color = ink_color\n",
    "\n",
    "    def display_info(self):\n",
    "        super().display_info()\n",
    "        print(f\"Ink Color: {self.ink_color} (Fluorescent)\")\n",
    "        print(f\"Type: {self.type}\")"
   ]
  },
  {
   "cell_type": "markdown",
   "id": "802d7e77-c329-411d-bb28-223fbeea0c89",
   "metadata": {},
   "source": [
    "## Testing All Inheritance Types"
   ]
  },
  {
   "cell_type": "code",
   "execution_count": 99,
   "id": "8c4c0147-cf35-4ce8-8f8b-0c8b4fcc7575",
   "metadata": {},
   "outputs": [
    {
     "name": "stdout",
     "output_type": "stream",
     "text": [
      "------------ Single Inheritance -----------\n",
      "Stationery: Ball Pen, Price: 10\n",
      "Ink Color: Blue\n"
     ]
    }
   ],
   "source": [
    "print(\"------------ Single Inheritance -----------\")\n",
    "pen = Pen(\"Ball Pen\", 10, \"Blue\")\n",
    "pen.display_info()\n",
    "\n"
   ]
  },
  {
   "cell_type": "code",
   "execution_count": 101,
   "id": "daf65f9c-2032-4beb-8fdf-d9f666bcbda2",
   "metadata": {},
   "outputs": [
    {
     "name": "stdout",
     "output_type": "stream",
     "text": [
      "\n",
      "------------- Multiple Inheritance ---------------\n",
      "Stationery: Whiteboard Marker, Price: 30\n",
      "Brand: Camlin\n",
      "Tip Size: 2 mm\n"
     ]
    }
   ],
   "source": [
    "print(\"\\n------------- Multiple Inheritance ---------------\")\n",
    "marker = Marker(\"Whiteboard Marker\", 30, 2, \"Camlin\")\n",
    "marker.display_info()"
   ]
  },
  {
   "cell_type": "code",
   "execution_count": 103,
   "id": "59c6fd11-6020-4541-91c8-a543fea6c47c",
   "metadata": {},
   "outputs": [
    {
     "name": "stdout",
     "output_type": "stream",
     "text": [
      "\n",
      "--------------- Multilevel Inheritance ------------\n",
      "Stationery: Apsara Pencil, Price: 5\n",
      "Type: Pencil, Hardness: HB\n"
     ]
    }
   ],
   "source": [
    "print(\"\\n--------------- Multilevel Inheritance ------------\")\n",
    "pencil = Pencil(\"Apsara Pencil\", 5, \"HB\")\n",
    "pencil.display_info()"
   ]
  },
  {
   "cell_type": "code",
   "execution_count": 105,
   "id": "6787cf66-923e-4506-8987-695c626e6ae0",
   "metadata": {},
   "outputs": [
    {
     "name": "stdout",
     "output_type": "stream",
     "text": [
      "\n",
      "-------------- Hierarchical Inheritance ----------------\n",
      "Stationery: Natraj Eraser, Price: 3\n",
      "Material: Rubber\n"
     ]
    }
   ],
   "source": [
    "print(\"\\n-------------- Hierarchical Inheritance ----------------\")\n",
    "eraser = Eraser(\"Natraj Eraser\", 3, \"Rubber\")\n",
    "eraser.display_info()"
   ]
  },
  {
   "cell_type": "code",
   "execution_count": 107,
   "id": "7c2edec0-cdd2-4576-a2bd-e7717c200564",
   "metadata": {},
   "outputs": [
    {
     "name": "stdout",
     "output_type": "stream",
     "text": [
      "Stationery: Domes Sharpener, Price: 7\n",
      "Blade Type: Steel Blade\n"
     ]
    }
   ],
   "source": [
    "sharpener = Sharpener(\"Domes Sharpener\", 7, \"Steel Blade\")\n",
    "sharpener.display_info()"
   ]
  },
  {
   "cell_type": "code",
   "execution_count": 109,
   "id": "622057c9-8692-4834-825c-fcd15b0bfe85",
   "metadata": {},
   "outputs": [
    {
     "name": "stdout",
     "output_type": "stream",
     "text": [
      "\n",
      "------------- Hybrid Inheritance ---------------- \n",
      "Stationery: Faber-Castell Highligher, Price: 40\n",
      "Brand: Faber-Castell\n",
      "Tip Size: 1.0 mm\n",
      "Ink Color: Yellow (Fluorescent)\n",
      "Type: Highlighter\n"
     ]
    }
   ],
   "source": [
    "print(\"\\n------------- Hybrid Inheritance ---------------- \")\n",
    "highligher = Highlighter(\"Faber-Castell Highligher\", 40, \"Yellow\", \"Faber-Castell\")\n",
    "highligher.display_info()"
   ]
  },
  {
   "cell_type": "code",
   "execution_count": null,
   "id": "e1618824-de34-4300-8bc7-606d9bea778a",
   "metadata": {},
   "outputs": [],
   "source": []
  }
 ],
 "metadata": {
  "kernelspec": {
   "display_name": "Python 3 (ipykernel)",
   "language": "python",
   "name": "python3"
  },
  "language_info": {
   "codemirror_mode": {
    "name": "ipython",
    "version": 3
   },
   "file_extension": ".py",
   "mimetype": "text/x-python",
   "name": "python",
   "nbconvert_exporter": "python",
   "pygments_lexer": "ipython3",
   "version": "3.11.5"
  }
 },
 "nbformat": 4,
 "nbformat_minor": 5
}
