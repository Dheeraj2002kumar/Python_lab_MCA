{
 "cells": [
  {
   "cell_type": "markdown",
   "id": "6a515d08",
   "metadata": {},
   "source": [
    "## Check if a bunber is even or odd"
   ]
  },
  {
   "cell_type": "code",
   "execution_count": 2,
   "id": "b3290b86",
   "metadata": {},
   "outputs": [
    {
     "name": "stdin",
     "output_type": "stream",
     "text": [
      "Enter a number:  22\n"
     ]
    },
    {
     "name": "stdout",
     "output_type": "stream",
     "text": [
      "22  is Even.\n"
     ]
    }
   ],
   "source": [
    "num = int(input(\"Enter a number: \"))\n",
    "\n",
    "if num % 2 == 0:\n",
    "    print(num, \" is Even.\")\n",
    "else:\n",
    "    print(num, \" is Odd.\")\n"
   ]
  },
  {
   "cell_type": "markdown",
   "id": "f809544d-7e1b-49ac-b5e7-4dcacc011404",
   "metadata": {},
   "source": [
    "## Find the largest among three numbers "
   ]
  },
  {
   "cell_type": "code",
   "execution_count": 7,
   "id": "77afd921-d9ab-43a0-acc3-1a04a95b5987",
   "metadata": {},
   "outputs": [
    {
     "name": "stdin",
     "output_type": "stream",
     "text": [
      "Enter first number:  5\n",
      "Enter second number:  7\n",
      "Enter third number:  1\n"
     ]
    },
    {
     "name": "stdout",
     "output_type": "stream",
     "text": [
      "The largest number is:  7\n"
     ]
    }
   ],
   "source": [
    "a = int(input(\"Enter first number: \"))\n",
    "b = int(input(\"Enter second number: \"))\n",
    "c = int(input(\"Enter third number: \"))\n",
    "\n",
    "if a >= b and a >= c: \n",
    "    print(\"The largest number is: \", a)\n",
    "elif b >=a and b >= c:\n",
    "    print(\"The largest number is: \", b)"
   ]
  },
  {
   "cell_type": "markdown",
   "id": "9dba17ca-d55e-4d0e-ab46-c0ff0bb98d74",
   "metadata": {},
   "source": [
    "## Grade calculation based on marks\n"
   ]
  },
  {
   "cell_type": "code",
   "execution_count": 10,
   "id": "30c74b07-6f70-4a66-97a6-5180d1f675c5",
   "metadata": {},
   "outputs": [
    {
     "name": "stdin",
     "output_type": "stream",
     "text": [
      "Enter your marks (0-100):  95\n"
     ]
    },
    {
     "name": "stdout",
     "output_type": "stream",
     "text": [
      "Grade: A\n"
     ]
    }
   ],
   "source": [
    "marks = int(input(\"Enter your marks (0-100): \"))\n",
    "\n",
    "if marks >= 90:\n",
    "    print(\"Grade: A\")\n",
    "elif marks >= 75:\n",
    "    print(\"Grade: B\")\n",
    "elif marks >= 50:\n",
    "    print(\"Grade: C\")\n",
    "elif marks >= 35:\n",
    "    print(\"Grade: D\")\n",
    "else: \n",
    "    print(\"Grade: Fail\")\n"
   ]
  },
  {
   "cell_type": "markdown",
   "id": "08871b11-06e5-46ed-8107-e7eabf393bcd",
   "metadata": {},
   "source": [
    "## Operations on a list"
   ]
  },
  {
   "cell_type": "code",
   "execution_count": 47,
   "id": "1162b6c8-d4dc-42fc-8678-a56240076f4a",
   "metadata": {},
   "outputs": [
    {
     "name": "stdout",
     "output_type": "stream",
     "text": [
      "Original List:  [45, 15, 10, 12]\n"
     ]
    }
   ],
   "source": [
    "# create a list\n",
    "numbers = [45, 15, 10, 12]\n",
    "print(\"Original List: \", numbers)"
   ]
  },
  {
   "cell_type": "code",
   "execution_count": 49,
   "id": "e2b9555a-df0d-4076-bd0d-d7aa7660afab",
   "metadata": {},
   "outputs": [
    {
     "name": "stdout",
     "output_type": "stream",
     "text": [
      "Original String List:  ['Dheeraj', 'Niraj', 'Saurabh']\n"
     ]
    }
   ],
   "source": [
    "stringList = [\"Dheeraj\", \"Niraj\", \"Saurabh\"]\n",
    "print(\"Original String List: \", stringList)"
   ]
  },
  {
   "cell_type": "markdown",
   "id": "14bc017a-c38b-4e52-a353-f8f298cbd69c",
   "metadata": {},
   "source": [
    "### Access elements"
   ]
  },
  {
   "cell_type": "code",
   "execution_count": 52,
   "id": "b8b6dcba-16f5-4926-aa54-69272501c1c7",
   "metadata": {},
   "outputs": [
    {
     "name": "stdout",
     "output_type": "stream",
     "text": [
      "First element:  45\n",
      "Last element:  12\n",
      "First element of stringList:  Dheeraj\n",
      "Last element of stringList:  Saurabh\n"
     ]
    }
   ],
   "source": [
    "print(\"First element: \", numbers[0])\n",
    "print(\"Last element: \", numbers[-1])\n",
    "\n",
    "print(\"First element of stringList: \", stringList[0])\n",
    "print(\"Last element of stringList: \", stringList[-1])"
   ]
  },
  {
   "cell_type": "markdown",
   "id": "580bf56e-94b8-4027-acc3-3b779903ef49",
   "metadata": {},
   "source": [
    "### Insert an element"
   ]
  },
  {
   "cell_type": "code",
   "execution_count": 55,
   "id": "96bd86d4-2f0e-44d5-ad5e-96a789c3e29a",
   "metadata": {},
   "outputs": [
    {
     "name": "stdout",
     "output_type": "stream",
     "text": [
      "After appending 60:  [45, 15, 10, 12, 60]\n",
      "After appending Suraj:  ['Dheeraj', 'Niraj', 'Saurabh', 'Suraj']\n"
     ]
    }
   ],
   "source": [
    "numbers.append(60)\n",
    "print(\"After appending 60: \", numbers)\n",
    "\n",
    "stringList.append(\"Suraj\")\n",
    "print(\"After appending Suraj: \", stringList)"
   ]
  },
  {
   "cell_type": "markdown",
   "id": "4905913e-8cd4-4846-916c-7207ceaa1802",
   "metadata": {},
   "source": [
    "### Insert at specific position"
   ]
  },
  {
   "cell_type": "code",
   "execution_count": 58,
   "id": "eaf5ce1e-9cca-4023-80d0-10b6c5ec7d62",
   "metadata": {},
   "outputs": [
    {
     "name": "stdout",
     "output_type": "stream",
     "text": [
      "After inserting 25 at index 2:  [45, 15, 25, 10, 12, 60]\n",
      "After inserting Sujal at index 3:  ['Dheeraj', 'Niraj', 'Saurabh', 'Sujal', 'Suraj']\n"
     ]
    }
   ],
   "source": [
    "numbers.insert(2, 25)  # position, value\n",
    "print(\"After inserting 25 at index 2: \", numbers)\n",
    "\n",
    "stringList.insert(3, \"Sujal\")\n",
    "print(\"After inserting Sujal at index 3: \", stringList)"
   ]
  },
  {
   "cell_type": "markdown",
   "id": "8888eb96-944b-4f42-9133-840be2548cf7",
   "metadata": {},
   "source": [
    "### Delete an element"
   ]
  },
  {
   "cell_type": "code",
   "execution_count": 61,
   "id": "f226cb29-7f40-468e-833b-bd54d8bef4b0",
   "metadata": {},
   "outputs": [
    {
     "name": "stdout",
     "output_type": "stream",
     "text": [
      "After removing 45:  [15, 25, 10, 12, 60]\n",
      "After removing Sujal ['Dheeraj', 'Niraj', 'Saurabh', 'Suraj']\n"
     ]
    }
   ],
   "source": [
    "numbers.remove(45)\n",
    "print(\"After removing 45: \", numbers)\n",
    "\n",
    "stringList.remove(\"Sujal\")\n",
    "print(\"After removing Sujal\", stringList)"
   ]
  },
  {
   "cell_type": "markdown",
   "id": "5b826a6d-cba7-4a2e-ae60-645a544d81b3",
   "metadata": {},
   "source": [
    "### Update an element\n"
   ]
  },
  {
   "cell_type": "code",
   "execution_count": 64,
   "id": "8d4d0e70-9e09-4598-bc1c-80457dfc85f8",
   "metadata": {},
   "outputs": [
    {
     "name": "stdout",
     "output_type": "stream",
     "text": [
      "After updating second element to 15:  [15, 15, 10, 12, 60]\n",
      "After updating fourth element to Ankit:  ['Dheeraj', 'Niraj', 'Saurabh', 'Ankit']\n"
     ]
    }
   ],
   "source": [
    "numbers[1] = 15\n",
    "print(\"After updating second element to 15: \", numbers)\n",
    "\n",
    "stringList[3] = \"Ankit\"\n",
    "print(\"After updating fourth element to Ankit: \", stringList)"
   ]
  },
  {
   "cell_type": "markdown",
   "id": "11df50cd-204a-4219-ad16-0a4262fb1a3c",
   "metadata": {},
   "source": [
    "### Search for an element"
   ]
  },
  {
   "cell_type": "code",
   "execution_count": 33,
   "id": "cfcd5ffd-57c2-4ce9-9a63-e2120a06f2dd",
   "metadata": {},
   "outputs": [
    {
     "name": "stdout",
     "output_type": "stream",
     "text": [
      "30 is not in the list.\n"
     ]
    }
   ],
   "source": [
    "if 30 in numbers:\n",
    "    print(\"30 is present in the list.\")\n",
    "else:\n",
    "    print(\"30 is not in the list.\")"
   ]
  },
  {
   "cell_type": "code",
   "execution_count": 66,
   "id": "3d21860e-667f-4a89-8953-3dd27de87597",
   "metadata": {},
   "outputs": [
    {
     "name": "stdout",
     "output_type": "stream",
     "text": [
      "Dheeraj is present in the list.\n"
     ]
    }
   ],
   "source": [
    "if \"Dheeraj\" in stringList:\n",
    "    print(\"Dheeraj is present in the list.\")\n",
    "else:\n",
    "    print(\"Dheeraj is not present in the list.\")"
   ]
  },
  {
   "cell_type": "markdown",
   "id": "5aa1d1cf-9e5d-4e0e-bd42-fddd05ebc113",
   "metadata": {},
   "source": [
    "### Length of the list"
   ]
  },
  {
   "cell_type": "code",
   "execution_count": 69,
   "id": "57f14a5b-bab0-46f0-9df0-1de0b25c5c90",
   "metadata": {},
   "outputs": [
    {
     "name": "stdout",
     "output_type": "stream",
     "text": [
      "Length of the list:  5\n",
      "Length of the stringList:  4\n"
     ]
    }
   ],
   "source": [
    "print(\"Length of the list: \", len(numbers))\n",
    "print(\"Length of the stringList: \", len(stringList))"
   ]
  },
  {
   "cell_type": "code",
   "execution_count": null,
   "id": "9d299a25-0226-4a7d-a60e-09b3935fc411",
   "metadata": {},
   "outputs": [],
   "source": []
  }
 ],
 "metadata": {
  "kernelspec": {
   "display_name": "Python 3 (ipykernel)",
   "language": "python",
   "name": "python3"
  },
  "language_info": {
   "codemirror_mode": {
    "name": "ipython",
    "version": 3
   },
   "file_extension": ".py",
   "mimetype": "text/x-python",
   "name": "python",
   "nbconvert_exporter": "python",
   "pygments_lexer": "ipython3",
   "version": "3.11.5"
  }
 },
 "nbformat": 4,
 "nbformat_minor": 5
}
