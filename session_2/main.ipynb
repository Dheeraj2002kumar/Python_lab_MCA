{
 "cells": [
  {
   "cell_type": "markdown",
   "id": "6a515d08",
   "metadata": {},
   "source": [
    "## Check if a bunber is even or odd"
   ]
  },
  {
   "cell_type": "code",
   "execution_count": 2,
   "id": "b3290b86",
   "metadata": {},
   "outputs": [
    {
     "name": "stdin",
     "output_type": "stream",
     "text": [
      "Enter a number:  22\n"
     ]
    },
    {
     "name": "stdout",
     "output_type": "stream",
     "text": [
      "22  is Even.\n"
     ]
    }
   ],
   "source": [
    "num = int(input(\"Enter a number: \"))\n",
    "\n",
    "if num % 2 == 0:\n",
    "    print(num, \" is Even.\")\n",
    "else:\n",
    "    print(num, \" is Odd.\")\n"
   ]
  },
  {
   "cell_type": "markdown",
   "id": "f809544d-7e1b-49ac-b5e7-4dcacc011404",
   "metadata": {},
   "source": [
    "## Find the largest among three numbers "
   ]
  },
  {
   "cell_type": "code",
   "execution_count": 7,
   "id": "77afd921-d9ab-43a0-acc3-1a04a95b5987",
   "metadata": {},
   "outputs": [
    {
     "name": "stdin",
     "output_type": "stream",
     "text": [
      "Enter first number:  5\n",
      "Enter second number:  7\n",
      "Enter third number:  1\n"
     ]
    },
    {
     "name": "stdout",
     "output_type": "stream",
     "text": [
      "The largest number is:  7\n"
     ]
    }
   ],
   "source": [
    "a = int(input(\"Enter first number: \"))\n",
    "b = int(input(\"Enter second number: \"))\n",
    "c = int(input(\"Enter third number: \"))\n",
    "\n",
    "if a >= b and a >= c: \n",
    "    print(\"The largest number is: \", a)\n",
    "elif b >=a and b >= c:\n",
    "    print(\"The largest number is: \", b)"
   ]
  },
  {
   "cell_type": "code",
   "execution_count": null,
   "id": "8ac923f2-415d-4825-a7f0-04157d902f96",
   "metadata": {},
   "outputs": [],
   "source": []
  }
 ],
 "metadata": {
  "kernelspec": {
   "display_name": "Python 3 (ipykernel)",
   "language": "python",
   "name": "python3"
  },
  "language_info": {
   "codemirror_mode": {
    "name": "ipython",
    "version": 3
   },
   "file_extension": ".py",
   "mimetype": "text/x-python",
   "name": "python",
   "nbconvert_exporter": "python",
   "pygments_lexer": "ipython3",
   "version": "3.11.5"
  }
 },
 "nbformat": 4,
 "nbformat_minor": 5
}
