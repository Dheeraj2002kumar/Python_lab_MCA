{
 "cells": [
  {
   "cell_type": "markdown",
   "id": "2e44d2e5-8fe1-431e-98e0-fc7f011b4aa9",
   "metadata": {},
   "source": [
    "# Dictionary"
   ]
  },
  {
   "cell_type": "code",
   "execution_count": 3,
   "id": "e517beed-50cb-41e0-a599-8ae9a967e2a1",
   "metadata": {},
   "outputs": [
    {
     "name": "stdout",
     "output_type": "stream",
     "text": [
      "Original Dictionary:\n",
      "{'Python': 120, 'Java': 95, 'C++': 80, 'Data Scirnce': 150, 'Machine Learning': 130}\n"
     ]
    }
   ],
   "source": [
    "# Dictionary of courses and number of students enrolled\n",
    "courses = {\n",
    "    \"Python\": 120,\n",
    "    \"Java\": 95,\n",
    "    \"C++\": 80,\n",
    "    \"Data Scirnce\": 150,\n",
    "    \"Machine Learning\": 130\n",
    "}\n",
    "\n",
    "print(\"Original Dictionary:\")\n",
    "print(courses)"
   ]
  },
  {
   "cell_type": "markdown",
   "id": "6c1aac3c-cbe3-46e1-ae9f-bbb877adf4f0",
   "metadata": {},
   "source": [
    "### 1. Accessing value using get()"
   ]
  },
  {
   "cell_type": "code",
   "execution_count": 6,
   "id": "c5779557-ff01-4945-b2a3-3fc3517dadf3",
   "metadata": {},
   "outputs": [
    {
     "name": "stdout",
     "output_type": "stream",
     "text": [
      "\n",
      "Students in Java: 95\n"
     ]
    }
   ],
   "source": [
    "print(\"\\nStudents in Java:\", courses.get(\"Java\"))"
   ]
  },
  {
   "cell_type": "markdown",
   "id": "52afdce9-1070-49fd-b321-6c67c5a4d913",
   "metadata": {},
   "source": [
    "### 2. Adding a new course"
   ]
  },
  {
   "cell_type": "code",
   "execution_count": 9,
   "id": "26d38c62-c166-48cd-ac08-b531714d0453",
   "metadata": {},
   "outputs": [
    {
     "name": "stdout",
     "output_type": "stream",
     "text": [
      "\n",
      "After adding Cyber Security:\n",
      "{'Python': 120, 'Java': 95, 'C++': 80, 'Data Scirnce': 150, 'Machine Learning': 130, 'Cyber Security': 90}\n"
     ]
    }
   ],
   "source": [
    "courses[\"Cyber Security\"] = 90\n",
    "print(\"\\nAfter adding Cyber Security:\")\n",
    "print(courses)"
   ]
  },
  {
   "cell_type": "markdown",
   "id": "7035e3e4-bb4f-4850-9396-230ba02efc3f",
   "metadata": {},
   "source": [
    "### 3. updating students in an existing course"
   ]
  },
  {
   "cell_type": "code",
   "execution_count": 12,
   "id": "81938f9b-b4de-41f3-9931-5abd0b89ed1d",
   "metadata": {},
   "outputs": [
    {
     "name": "stdout",
     "output_type": "stream",
     "text": [
      "After updating Python Students:\n",
      "{'Python': 125, 'Java': 95, 'C++': 80, 'Data Scirnce': 150, 'Machine Learning': 130, 'Cyber Security': 90}\n"
     ]
    }
   ],
   "source": [
    "courses.update({\"Python\" : 125})\n",
    "print(\"After updating Python Students:\")\n",
    "print(courses)"
   ]
  },
  {
   "cell_type": "markdown",
   "id": "ffd4e908-dc2c-4627-9471-42e78edac0d5",
   "metadata": {},
   "source": [
    "### 4. Removing a course using pop()"
   ]
  },
  {
   "cell_type": "code",
   "execution_count": 15,
   "id": "0aea7337-753c-42b1-b84c-993e5ab0b256",
   "metadata": {},
   "outputs": [
    {
     "name": "stdout",
     "output_type": "stream",
     "text": [
      "Removed C++ with 80 students\n",
      "{'Python': 125, 'Java': 95, 'Data Scirnce': 150, 'Machine Learning': 130, 'Cyber Security': 90}\n"
     ]
    }
   ],
   "source": [
    "removed = courses.pop(\"C++\")\n",
    "print(f\"Removed C++ with {removed} students\")\n",
    "print(courses)"
   ]
  },
  {
   "cell_type": "markdown",
   "id": "bc05d251-2431-4681-9012-46e0ad500570",
   "metadata": {},
   "source": [
    "### 5. Removing last inserted item using popitem"
   ]
  },
  {
   "cell_type": "code",
   "execution_count": 20,
   "id": "7a59b2f0-f101-4eea-bd7e-1c7b7afef222",
   "metadata": {},
   "outputs": [
    {
     "name": "stdout",
     "output_type": "stream",
     "text": [
      "Remove last inserted item: ('Cyber Security', 90)\n"
     ]
    }
   ],
   "source": [
    "last_item = courses.popitem()\n",
    "print(f\"Remove last inserted item: {last_item}\")"
   ]
  },
  {
   "cell_type": "markdown",
   "id": "c22a1588-2e8b-4d7b-81ea-4428ea561f0f",
   "metadata": {},
   "source": [
    "### 6. Displaying all keys, values, and items"
   ]
  },
  {
   "cell_type": "code",
   "execution_count": 27,
   "id": "8f4e784b-0c29-4576-b026-f819a920bdb7",
   "metadata": {},
   "outputs": [
    {
     "name": "stdout",
     "output_type": "stream",
     "text": [
      "Courses: dict_keys(['Python', 'Java', 'Data Scirnce', 'Machine Learning'])\n",
      "Courses: dict_items([('Python', 125), ('Java', 95), ('Data Scirnce', 150), ('Machine Learning', 130)])\n"
     ]
    }
   ],
   "source": [
    "print(\"Courses:\", courses.keys())\n",
    "print(\"Courses:\", courses.items())"
   ]
  },
  {
   "cell_type": "code",
   "execution_count": 29,
   "id": "4c188e1e-fbd8-4e8b-a089-290b724963e5",
   "metadata": {},
   "outputs": [
    {
     "name": "stdout",
     "output_type": "stream",
     "text": [
      "Collecting python-box\n",
      "  Obtaining dependency information for python-box from https://files.pythonhosted.org/packages/d4/e2/6cdc8649381ae14def88c3e2e93d5b8b17a622a95896e0d1c92861270b7d/python_box-7.3.2-cp311-cp311-win_amd64.whl.metadata\n",
      "  Downloading python_box-7.3.2-cp311-cp311-win_amd64.whl.metadata (8.3 kB)\n",
      "Downloading python_box-7.3.2-cp311-cp311-win_amd64.whl (1.2 MB)\n",
      "   ---------------------------------------- 0.0/1.2 MB ? eta -:--:--\n",
      "   ---------------------------------------- 0.0/1.2 MB ? eta -:--:--\n",
      "   -- ------------------------------------- 0.1/1.2 MB 1.9 MB/s eta 0:00:01\n",
      "   ------------- -------------------------- 0.4/1.2 MB 3.4 MB/s eta 0:00:01\n",
      "   -------------------------- ------------- 0.8/1.2 MB 5.7 MB/s eta 0:00:01\n",
      "   --------------------------------- ------ 1.0/1.2 MB 4.7 MB/s eta 0:00:01\n",
      "   ---------------------------------------- 1.2/1.2 MB 4.9 MB/s eta 0:00:00\n",
      "Installing collected packages: python-box\n",
      "Successfully installed python-box-7.3.2\n",
      "Note: you may need to restart the kernel to use updated packages.\n"
     ]
    }
   ],
   "source": [
    "pip install python-box\n"
   ]
  },
  {
   "cell_type": "code",
   "execution_count": 30,
   "id": "042b770f-1220-4681-b88f-b90f1559258b",
   "metadata": {},
   "outputs": [
    {
     "name": "stdout",
     "output_type": "stream",
     "text": [
      "Algebra\n"
     ]
    }
   ],
   "source": [
    "from box import Box\n",
    "\n",
    "courses = Box({\n",
    "    'math': 'Algebra',\n",
    "    'science': 'Physics',\n",
    "    'history': 'World History'\n",
    "})\n",
    "\n",
    "print(courses.math)  # Now this works\n"
   ]
  },
  {
   "cell_type": "markdown",
   "id": "b11b921f-183a-4a70-8ebf-a3fb10f84c08",
   "metadata": {},
   "source": [
    "### 7. Checking if a course exists"
   ]
  },
  {
   "cell_type": "code",
   "execution_count": 36,
   "id": "3e58debf-5093-4a94-8f74-6303c07d8921",
   "metadata": {},
   "outputs": [
    {
     "name": "stdout",
     "output_type": "stream",
     "text": [
      "Java course is not available.\n"
     ]
    }
   ],
   "source": [
    "if \"Java\" in courses:\n",
    "    print(\"\\nJava course is available.\")\n",
    "else:\n",
    "    print(\"Java course is not available.\")"
   ]
  },
  {
   "cell_type": "markdown",
   "id": "0572c415-d307-4e44-b193-06c7efd2c6ce",
   "metadata": {},
   "source": [
    "### 8. Copying dictionary"
   ]
  },
  {
   "cell_type": "code",
   "execution_count": 41,
   "id": "76472a47-b920-42c0-b07f-c55d564feaf3",
   "metadata": {},
   "outputs": [
    {
     "name": "stdout",
     "output_type": "stream",
     "text": [
      "Copied Dictionary: {'math': 'Algebra', 'science': 'Physics', 'history': 'World History'}\n"
     ]
    }
   ],
   "source": [
    "copy_dict = courses.copy()\n",
    "print(\"Copied Dictionary:\", copy_dict)"
   ]
  },
  {
   "cell_type": "markdown",
   "id": "9dc14a08-3bcb-4fa3-89d4-7e135d6b2a11",
   "metadata": {},
   "source": [
    "### 9. Clearing dictionary "
   ]
  },
  {
   "cell_type": "code",
   "execution_count": 44,
   "id": "b5022ee6-0408-4713-b6cf-6c6459d01ca9",
   "metadata": {},
   "outputs": [
    {
     "name": "stdout",
     "output_type": "stream",
     "text": [
      "Dictinary after clearing: {}\n"
     ]
    }
   ],
   "source": [
    "courses.clear()\n",
    "print(\"Dictinary after clearing:\", courses)"
   ]
  },
  {
   "cell_type": "code",
   "execution_count": null,
   "id": "be83f031-dbdf-48f4-b79c-ef551112308a",
   "metadata": {},
   "outputs": [],
   "source": []
  }
 ],
 "metadata": {
  "kernelspec": {
   "display_name": "Python 3 (ipykernel)",
   "language": "python",
   "name": "python3"
  },
  "language_info": {
   "codemirror_mode": {
    "name": "ipython",
    "version": 3
   },
   "file_extension": ".py",
   "mimetype": "text/x-python",
   "name": "python",
   "nbconvert_exporter": "python",
   "pygments_lexer": "ipython3",
   "version": "3.11.5"
  }
 },
 "nbformat": 4,
 "nbformat_minor": 5
}
